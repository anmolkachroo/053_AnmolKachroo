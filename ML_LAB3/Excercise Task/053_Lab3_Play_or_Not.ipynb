{
  "nbformat": 4,
  "nbformat_minor": 0,
  "metadata": {
    "colab": {
      "name": "053_Lab3_Play_or_Not.ipynb",
      "provenance": []
    },
    "kernelspec": {
      "name": "python3",
      "display_name": "Python 3"
    },
    "language_info": {
      "name": "python"
    }
  },
  "cells": [
    {
      "cell_type": "code",
      "metadata": {
        "colab": {
          "base_uri": "https://localhost:8080/",
          "height": 35
        },
        "id": "KrMT8oVLv4bC",
        "outputId": "ee462d1f-24d8-4085-f570-5aabb93336f4"
      },
      "source": [
        "'''\n",
        "Author: Anmol Kachroo\n",
        "\n",
        "'''"
      ],
      "execution_count": 1,
      "outputs": [
        {
          "output_type": "execute_result",
          "data": {
            "application/vnd.google.colaboratory.intrinsic+json": {
              "type": "string"
            },
            "text/plain": [
              "'\\nAuthor: Anmol Kachroo\\n\\n'"
            ]
          },
          "metadata": {},
          "execution_count": 1
        }
      ]
    },
    {
      "cell_type": "code",
      "metadata": {
        "colab": {
          "base_uri": "https://localhost:8080/"
        },
        "id": "XFj_lrbyxhlh",
        "outputId": "d0ba6cd2-7437-4867-f84b-05c8122001df"
      },
      "source": [
        "from google.colab import drive\n",
        "drive.mount(\"/content/drive\")\n"
      ],
      "execution_count": 2,
      "outputs": [
        {
          "output_type": "stream",
          "name": "stdout",
          "text": [
            "Mounted at /content/drive\n"
          ]
        }
      ]
    },
    {
      "cell_type": "code",
      "metadata": {
        "id": "_ILhDXkKxsPU"
      },
      "source": [
        "import numpy as np\n",
        "import pandas as pd\n",
        "import matplotlib.pyplot as plt\n",
        "from sklearn import datasets, preprocessing\n",
        "from sklearn.naive_bayes import GaussianNB, MultinomialNB"
      ],
      "execution_count": 3,
      "outputs": []
    },
    {
      "cell_type": "code",
      "metadata": {
        "colab": {
          "base_uri": "https://localhost:8080/"
        },
        "id": "94q-H27Qx-sG",
        "outputId": "6e67c69b-4b80-4601-9cd5-a585132193b2"
      },
      "source": [
        "# reading data into main_data\n",
        "\n",
        "main_data = pd.read_csv(\"/content/drive/MyDrive/SEM_7_ML/L3/Dataset2.csv\")\n",
        "\n",
        "# labelEncoder Object\n",
        "label_encoder = preprocessing.LabelEncoder()\n",
        "\n",
        "for data in main_data:\n",
        "  print(f\"\\n\\nHeading :- {data}\")\n",
        "  print(list(main_data[data]))\n",
        "  main_data[data] = label_encoder.fit_transform(main_data[data])\n",
        "  print(f\"\\n\\nAfter the tranformation of {data}\")\n",
        "  print(list(main_data[data]))"
      ],
      "execution_count": 5,
      "outputs": [
        {
          "output_type": "stream",
          "name": "stdout",
          "text": [
            "\n",
            "\n",
            "Heading :- Outlook\n",
            "['R', 'R', 'O', 'S', 'S', 'S', 'O', 'R', 'R', 'S', 'R', 'O', 'O', 'S']\n",
            "\n",
            "\n",
            "After the tranformation of Outlook\n",
            "[1, 1, 0, 2, 2, 2, 0, 1, 1, 2, 1, 0, 0, 2]\n",
            "\n",
            "\n",
            "Heading :- Temp\n",
            "['H', 'H', 'H', 'M', 'M', 'M', 'C', 'C', 'C', 'M', 'M', 'M', 'H', 'M']\n",
            "\n",
            "\n",
            "After the tranformation of Temp\n",
            "[1, 1, 1, 2, 2, 2, 0, 0, 0, 2, 2, 2, 1, 2]\n",
            "\n",
            "\n",
            "Heading :- Wind\n",
            "['F', 'T', 'F', 'F', 'F', 'T', 'T', 'F', 'F', 'F', 'T', 'T', 'F', 'T']\n",
            "\n",
            "\n",
            "After the tranformation of Wind\n",
            "[0, 1, 0, 0, 0, 1, 1, 0, 0, 0, 1, 1, 0, 1]\n",
            "\n",
            "\n",
            "Heading :- Humidity\n",
            "['Normal', 'High', 'Normal', 'Normal', 'Normal', 'Low', 'Normal', 'Normal', 'Low', 'High', 'High', 'Low', 'Normal', 'Normal']\n",
            "\n",
            "\n",
            "After the tranformation of Humidity\n",
            "[2, 0, 2, 2, 2, 1, 2, 2, 1, 0, 0, 1, 2, 2]\n",
            "\n",
            "\n",
            "Heading :- Class\n",
            "['N', 'N', 'Y', 'N', 'Y', 'Y', 'Y', 'Y', 'Y', 'Y', 'Y', 'Y', 'Y', 'N']\n",
            "\n",
            "\n",
            "After the tranformation of Class\n",
            "[0, 0, 1, 0, 1, 1, 1, 1, 1, 1, 1, 1, 1, 0]\n"
          ]
        }
      ]
    },
    {
      "cell_type": "code",
      "metadata": {
        "colab": {
          "base_uri": "https://localhost:8080/"
        },
        "id": "IsbaWI2gytuW",
        "outputId": "77c12d16-7aa5-4aba-d060-021025e24298"
      },
      "source": [
        "# now zip all the features of atmosphere\n",
        "\n",
        "combined_features = tuple(zip(main_data[\"Outlook\"], main_data[\"Temp\"], main_data[\"Wind\"], main_data[\"Humidity\"]))\n",
        "print(\"After combined!\")\n",
        "\n",
        "print(\"Outlook, Temp, Wind, Humidity\\n\\n\")\n",
        "for pair in combined_features:\n",
        "    print(pair)"
      ],
      "execution_count": 6,
      "outputs": [
        {
          "output_type": "stream",
          "name": "stdout",
          "text": [
            "After combined!\n",
            "Outlook, Temp, Wind, Humidity\n",
            "\n",
            "\n",
            "(1, 1, 0, 2)\n",
            "(1, 1, 1, 0)\n",
            "(0, 1, 0, 2)\n",
            "(2, 2, 0, 2)\n",
            "(2, 2, 0, 2)\n",
            "(2, 2, 1, 1)\n",
            "(0, 0, 1, 2)\n",
            "(1, 0, 0, 2)\n",
            "(1, 0, 0, 1)\n",
            "(2, 2, 0, 0)\n",
            "(1, 2, 1, 0)\n",
            "(0, 2, 1, 1)\n",
            "(0, 1, 0, 2)\n",
            "(2, 2, 1, 2)\n"
          ]
        }
      ]
    },
    {
      "cell_type": "markdown",
      "metadata": {
        "id": "ZBfdGJR6yzlK"
      },
      "source": [
        "**Roll Number : 53 ---> Perform Task on Dataset2 and train test split (90% - 10%)**\n"
      ]
    },
    {
      "cell_type": "code",
      "metadata": {
        "colab": {
          "base_uri": "https://localhost:8080/"
        },
        "id": "wFHVTtWDzEk2",
        "outputId": "184a70b9-004e-4f10-f8d5-08cde2d030c4"
      },
      "source": [
        "# train test division 90% - 10% bcz my Roll No is 53\n",
        "from sklearn.model_selection import train_test_split\n",
        "\n",
        "X_train, X_test, Y_train, Y_test = train_test_split(combined_features, main_data[\"Class\"], test_size = 0.10, random_state = 53)\n",
        "# 48 random state is accepted value by many researcher\n",
        "\n",
        "# create model\n",
        "model = MultinomialNB()\n",
        "model.fit(X_train, Y_train)\n",
        "\n",
        "# Predict Y from X_text\n",
        "Y_predicted = model.predict(X_test)\n",
        "\n",
        "print(Y_predicted)"
      ],
      "execution_count": 7,
      "outputs": [
        {
          "output_type": "stream",
          "name": "stdout",
          "text": [
            "[1 1]\n"
          ]
        }
      ]
    },
    {
      "cell_type": "code",
      "metadata": {
        "colab": {
          "base_uri": "https://localhost:8080/"
        },
        "id": "-lohvI-f02DW",
        "outputId": "fbcffe09-17ff-44a4-c0fc-b211f553a49d"
      },
      "source": [
        "from sklearn import metrics\n",
        "\n",
        "print(f\"Accuracy is :- {metrics.accuracy_score(Y_test, Y_predicted)}\")"
      ],
      "execution_count": 8,
      "outputs": [
        {
          "output_type": "stream",
          "name": "stdout",
          "text": [
            "Accuracy is :- 0.5\n"
          ]
        }
      ]
    },
    {
      "cell_type": "code",
      "metadata": {
        "colab": {
          "base_uri": "https://localhost:8080/"
        },
        "id": "yAqnLIX_05pE",
        "outputId": "6ab9809a-3204-4147-b3d3-519e171aa185"
      },
      "source": [
        "# print precision and recall\n",
        "from sklearn.metrics import precision_score\n",
        "from sklearn.metrics import recall_score\n",
        "\n",
        "\n",
        "precision = precision_score(Y_test, Y_predicted)\n",
        "recall = recall_score(Y_test, Y_predicted)\n",
        "\n",
        "\n",
        "print(f\"precision :- {precision}\")\n",
        "print(f\"recall :- {recall}\")"
      ],
      "execution_count": 9,
      "outputs": [
        {
          "output_type": "stream",
          "name": "stdout",
          "text": [
            "precision :- 0.5\n",
            "recall :- 1.0\n"
          ]
        }
      ]
    },
    {
      "cell_type": "code",
      "metadata": {
        "colab": {
          "base_uri": "https://localhost:8080/"
        },
        "id": "xDCmKhN61DTM",
        "outputId": "bc41a372-cb21-4e8e-8fd2-ab4963ad0c01"
      },
      "source": [
        "# Excersice\n",
        "# Task1\n",
        "\n",
        "# Temp = \"Hot\" and Weather = \"overcast\"\n",
        "\n",
        "output = model.predict([[0, 1, 1, 2]])\n",
        "print(f\"final prediction :- {output}\")"
      ],
      "execution_count": 10,
      "outputs": [
        {
          "output_type": "stream",
          "name": "stdout",
          "text": [
            "final prediction :- [1]\n"
          ]
        }
      ]
    },
    {
      "cell_type": "code",
      "metadata": {
        "colab": {
          "base_uri": "https://localhost:8080/"
        },
        "id": "vID4iaYr1I1t",
        "outputId": "7ed761f4-a72d-4436-961a-8bb11d2e7e9f"
      },
      "source": [
        "# Excersice\n",
        "# Task1\n",
        "\n",
        "# Temp = \"Mild\" and Weather = \"sunny\"\n",
        "\n",
        "output = model.predict([[2, 2, 1, 2]])\n",
        "print(f\"final prediction :- {output}\")"
      ],
      "execution_count": 11,
      "outputs": [
        {
          "output_type": "stream",
          "name": "stdout",
          "text": [
            "final prediction :- [1]\n"
          ]
        }
      ]
    }
  ]
}