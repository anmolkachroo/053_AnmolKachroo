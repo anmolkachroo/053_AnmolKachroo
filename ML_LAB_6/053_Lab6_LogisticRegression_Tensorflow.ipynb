{
  "nbformat": 4,
  "nbformat_minor": 0,
  "metadata": {
    "colab": {
      "name": "053_Lab6_LogisticRegression_Tensorflow.ipynb",
      "provenance": []
    },
    "kernelspec": {
      "name": "python3",
      "display_name": "Python 3"
    },
    "language_info": {
      "name": "python"
    }
  },
  "cells": [
    {
      "cell_type": "code",
      "metadata": {
        "colab": {
          "base_uri": "https://localhost:8080/",
          "height": 35
        },
        "id": "x_i0jZjULL_0",
        "outputId": "a4ba241e-2b39-4133-b77f-c6e972fd83ae"
      },
      "source": [
        "'''\n",
        "Author: Anmol Kachroo\n",
        "\n",
        "'''"
      ],
      "execution_count": 1,
      "outputs": [
        {
          "output_type": "execute_result",
          "data": {
            "application/vnd.google.colaboratory.intrinsic+json": {
              "type": "string"
            },
            "text/plain": [
              "'\\nAuthor: Anmol Kachroo\\n\\n'"
            ]
          },
          "metadata": {},
          "execution_count": 1
        }
      ]
    },
    {
      "cell_type": "code",
      "metadata": {
        "colab": {
          "base_uri": "https://localhost:8080/"
        },
        "id": "b0yrDTW1LOOW",
        "outputId": "ffb8b29e-2de8-4e84-e514-2c3b0544666c"
      },
      "source": [
        "from google.colab import drive\n",
        "drive.mount(\"/content/drive\")"
      ],
      "execution_count": 2,
      "outputs": [
        {
          "output_type": "stream",
          "name": "stdout",
          "text": [
            "Mounted at /content/drive\n"
          ]
        }
      ]
    },
    {
      "cell_type": "code",
      "metadata": {
        "id": "VPFtNVrPdzCQ"
      },
      "source": [
        "from __future__ import absolute_import, division, print_function\n",
        "import matplotlib.pyplot as plt\n",
        "%matplotlib inline\n",
        "import tensorflow as tf\n",
        "\n",
        "import numpy as np \n",
        "import pandas as pd \n",
        "import io\n",
        "import matplotlib.pyplot as plt"
      ],
      "execution_count": 101,
      "outputs": []
    },
    {
      "cell_type": "markdown",
      "metadata": {
        "id": "e9-Jm3F9d3MS"
      },
      "source": [
        "MNIST data set. MNIST data is a collection of hand-written digits that contains 60,000 examples for training and 10,000 examples for testing. The digits have been size-normalized and centered in a fixed-size image (28x28 pixels) with values from 0 to 255.\n",
        "\n",
        "Next for each image we will:\n",
        "\n",
        "converted it to float32\n",
        "\n",
        "normalized to [0, 1]\n",
        "\n",
        "flattened to a 1-D array of 784 features (28*28)."
      ]
    },
    {
      "cell_type": "markdown",
      "metadata": {
        "id": "hXQkgaLsd7Fo"
      },
      "source": [
        "#Step 2: Loading and Preparing the MNIST Data Set"
      ]
    },
    {
      "cell_type": "code",
      "metadata": {
        "id": "nItBDyCOd9Gv"
      },
      "source": [
        "from tensorflow.keras.datasets import mnist\n",
        "\n",
        "(x_train, y_train), (x_test, y_test) = mnist.load_data()\n",
        "\n",
        "# Convert to float32.\n",
        "x_train = np.array(x_train, np.float32)\n",
        "x_test = np.array(x_test, np.float32)\n",
        "\n",
        "\n",
        "# Flatten images to 1-D vector of 784 features (28*28).\n",
        "num_features=784\n",
        "x_train = x_train.reshape(60000, num_features)\n",
        "x_test = x_test.reshape(10000, num_features)\n",
        "\n",
        "\n",
        "# Normalize images value from [0, 255] to [0, 1].\n",
        "x_train = x_train / 255\n",
        "x_test = x_test /255"
      ],
      "execution_count": 104,
      "outputs": []
    },
    {
      "cell_type": "markdown",
      "metadata": {
        "id": "ZD2zszIDeJOd"
      },
      "source": [
        "#Step 3: Setting Up Hyperparameters and Data Set Parameters\n",
        "\n",
        "Initialize the model parameters.\n",
        "\n",
        "num_classes denotes the number of outputs, which is 10, as we have digits from 0 to 9 in the data set.\n",
        "\n",
        "num_features defines the number of input parameters, and we store 784 since each image contains 784 pixels."
      ]
    },
    {
      "cell_type": "code",
      "metadata": {
        "id": "iYSKdZVZeNpZ"
      },
      "source": [
        "# MNIST dataset parameters.\n",
        "\n",
        "num_classes = 10 # 0 to 9 digits\n",
        "\n",
        "num_features = 784 # 28*28\n",
        "\n",
        "# Training parameters.\n",
        "\n",
        "learning_rate = 0.01\n",
        "\n",
        "training_steps = 1000\n",
        "\n",
        "batch_size = 256\n",
        "\n",
        "display_step = 50"
      ],
      "execution_count": 105,
      "outputs": []
    },
    {
      "cell_type": "markdown",
      "metadata": {
        "id": "VhXJp-rteRUd"
      },
      "source": [
        "#Step 4: Shuffling and Batching the Data\n",
        "\n",
        "We need to shuffle and batch the data before we start the actual training to avoid the model from getting biased by the data. This will allow our data to be more random and helps our model to gain higher accuracies with the test data.\n",
        "\n",
        "With the help of tf.data.Dataset.from_tensor_slices, we can get the slices of an array in the form of objects.\n",
        "\n",
        "The function shuffle(5000) randomizes the order of the data set’s examples.\n",
        "\n",
        "Here, 5000 denotes the variable shuffle_buffer, which tells the model to pick a sample randomly from 1 to 5000 samples.\n",
        "\n",
        "After that, there are only 4999 samples left in the buffer, so the sample 5001 gets added to the buffer."
      ]
    },
    {
      "cell_type": "code",
      "metadata": {
        "id": "quP8IlmMeR4T"
      },
      "source": [
        "# Use tf.data API to shuffle and batch data.\n",
        "num_batches = int(x_train.shape[0] / batch_size)\n",
        "train_data = tf.data.Dataset.from_tensor_slices((x_train, y_train))\n",
        "train_data = train_data.repeat().shuffle(5000).batch(batch_size).prefetch(1)"
      ],
      "execution_count": 106,
      "outputs": []
    },
    {
      "cell_type": "markdown",
      "metadata": {
        "id": "LFXE3rPmeVtp"
      },
      "source": [
        "#Step 5: Initializing Weights and Biases\n",
        "\n",
        "We now initialize the weights vector and bias vector with ones and zeros."
      ]
    },
    {
      "cell_type": "code",
      "metadata": {
        "id": "Z2bPNo-oeWDs"
      },
      "source": [
        "# Weight of shape [784, 10], the 28*28 image features, and a total number of classes.\n",
        "W = tf.Variable(np.random.randn(784, 10).astype(np.float32))\n",
        "\n",
        "# Bias of shape [10], the total number of classes.\n",
        "B = tf.Variable(np.random.randn(10).astype(np.float32))"
      ],
      "execution_count": 107,
      "outputs": []
    },
    {
      "cell_type": "markdown",
      "metadata": {
        "id": "1TBQwLxZeaSs"
      },
      "source": [
        "#Step 6: Defining Logistic Regression and Cost Function\n",
        "\n",
        "We define the logistic_regression function below, which converts the inputs into a probability distribution proportional to the exponents of the inputs using the softmax function. The softmax function, which is implemented using the function tf.nn.softmax, also makes sure that the sum of all the inputs equals one."
      ]
    },
    {
      "cell_type": "code",
      "metadata": {
        "id": "btSMNXtEeatx"
      },
      "source": [
        "# Logistic regression (Wx + b).\n",
        "\n",
        "def logistic_regression(x):\n",
        "\n",
        "    # Apply softmax to normalize the logits to a probability distribution.\n",
        "    return tf.nn.softmax(tf.add(tf.matmul(x, W), B))\n",
        "    \n",
        "\n",
        "# Cross-Entropy loss function.\n",
        "\n",
        "def cross_entropy(y_pred, y_true):\n",
        "    # Encode label to a one hot vector.\n",
        "    y_true = tf.one_hot(y_true, depth = num_classes)\n",
        "    \n",
        "\n",
        "    # Clip prediction values to avoid log(0) error.\n",
        "    y_pred = tf.clip_by_value(y_pred, 1e-9, 1.)\n",
        "    \n",
        "\n",
        "    # Compute cross-entropy.\n",
        "    loss = tf.reduce_mean(-tf.reduce_sum(y_true * tf.math.log(y_pred)))\n",
        "    return loss"
      ],
      "execution_count": 108,
      "outputs": []
    },
    {
      "cell_type": "markdown",
      "metadata": {
        "id": "fvl2GFcGehFP"
      },
      "source": [
        "#Step 7: Defining Optimizers and Accuracy Metrics When we compute the output, it gives us the probability of the given data to fit a particular class of output.\n",
        "\n",
        "We consider the correct prediction as to the class having the highest probability.\n",
        "\n",
        "We compute this using the function tf.argmax.\n",
        "\n",
        "We also define the stochastic gradient descent as the optimizer from several optimizers present in TensorFlow. We do this using the function tf.optimizers.SGD.\n",
        "\n",
        "This function takes in the learning rate as its input, which defines how fast the model should reach its minimum loss or gain the highest accuracy."
      ]
    },
    {
      "cell_type": "code",
      "metadata": {
        "id": "1xTa2hYTehvH"
      },
      "source": [
        "# Accuracy metric.\n",
        "\n",
        "def accuracy(y_pred, y_true):\n",
        "\n",
        "  # Predicted class is the index of the highest score in prediction vector (i.e. argmax).\n",
        "  correct_prediction = tf.equal(tf.argmax(y_pred, 1), tf.cast(y_true, tf.int64))\n",
        "  return tf.reduce_mean(tf.cast(correct_prediction, tf.float32))\n"
      ],
      "execution_count": 109,
      "outputs": []
    },
    {
      "cell_type": "markdown",
      "metadata": {
        "id": "adQmiqrmemtK"
      },
      "source": [
        "#Step 8: Optimization Process and Updating Weights and Biases\n",
        "\n",
        " Now we define the run_optimization() method where we update the weights of our model. We calculate the predictions using the logistic_regression(x) method by taking the inputs and find out the loss generated by comparing the predicted value and the original value present in the data set. Next, we compute the gradients using and update the weights of the model with our stochastic gradient descent optimizer."
      ]
    },
    {
      "cell_type": "code",
      "metadata": {
        "id": "x_gTW3fwenID"
      },
      "source": [
        "# Optimization process. \n",
        "optimizer = tf.optimizers.SGD(learning_rate)\n",
        "def run_optimization(x, y):\n",
        "\n",
        "# Wrap computation inside a GradientTape for automatic differentiation.\n",
        "    with tf.GradientTape() as g:\n",
        "        pred = logistic_regression(x)\n",
        "        loss = cross_entropy(pred, y)\n",
        "  \n",
        "    # Compute gradients.    \n",
        "    gradients = g.gradient(loss, [W, B])\n",
        "\n",
        "    # Stochastic gradient descent optimizer.\n",
        "\n",
        "    \n",
        "    \n",
        "    # Update W and b following gradients.\n",
        "    optimizer.apply_gradients(zip(gradients, [W, B]))"
      ],
      "execution_count": 110,
      "outputs": []
    },
    {
      "cell_type": "markdown",
      "metadata": {
        "id": "wUH-AdTEe1Ch"
      },
      "source": [
        "#Step 9: The Training Loop"
      ]
    },
    {
      "cell_type": "code",
      "metadata": {
        "colab": {
          "base_uri": "https://localhost:8080/"
        },
        "id": "ujTK8bfye1cr",
        "outputId": "c1bd1efb-37b5-4e8f-f03e-14d06e618cb0"
      },
      "source": [
        "# Run training for the given number of steps.\n",
        "\n",
        "for step, (batch_x, batch_y) in enumerate(train_data.take(training_steps), 1):\n",
        "\n",
        "    # Run the optimization to update W and b values.\n",
        "\n",
        "    run_optimization(batch_x, batch_y)\n",
        "    \n",
        "\n",
        "    if step % display_step == 0:\n",
        "\n",
        "        #Obtain Predictions\n",
        "        pred = logistic_regression(batch_x)\n",
        "        #Ccompute loss\n",
        "        loss = cross_entropy(pred, batch_y)\n",
        "        #Compute Accuracy\n",
        "        acc = accuracy(pred, batch_y)\n",
        "        #print accuracy\n",
        "        print(f\"step: {step}, loss: {loss}, accuracy: {acc}\")"
      ],
      "execution_count": 111,
      "outputs": [
        {
          "output_type": "stream",
          "name": "stdout",
          "text": [
            "step: 50, loss: 373.0819091796875, accuracy: 0.7578125\n",
            "step: 100, loss: 181.89117431640625, accuracy: 0.8515625\n",
            "step: 150, loss: 180.1942596435547, accuracy: 0.8984375\n",
            "step: 200, loss: 148.0102996826172, accuracy: 0.87890625\n",
            "step: 250, loss: 109.5868911743164, accuracy: 0.8984375\n",
            "step: 300, loss: 114.7894287109375, accuracy: 0.91796875\n",
            "step: 350, loss: 122.31793975830078, accuracy: 0.875\n",
            "step: 400, loss: 114.46330261230469, accuracy: 0.89453125\n",
            "step: 450, loss: 57.16559600830078, accuracy: 0.94140625\n",
            "step: 500, loss: 117.12610626220703, accuracy: 0.890625\n",
            "step: 550, loss: 119.93406677246094, accuracy: 0.8984375\n",
            "step: 600, loss: 80.43426513671875, accuracy: 0.9140625\n",
            "step: 650, loss: 76.53533935546875, accuracy: 0.921875\n",
            "step: 700, loss: 88.22587585449219, accuracy: 0.94921875\n",
            "step: 750, loss: 120.6889419555664, accuracy: 0.86328125\n",
            "step: 800, loss: 104.82674407958984, accuracy: 0.875\n",
            "step: 850, loss: 89.41508483886719, accuracy: 0.92578125\n",
            "step: 900, loss: 110.76073455810547, accuracy: 0.92578125\n",
            "step: 950, loss: 54.61613464355469, accuracy: 0.9453125\n",
            "step: 1000, loss: 89.53339385986328, accuracy: 0.90625\n"
          ]
        }
      ]
    },
    {
      "cell_type": "markdown",
      "metadata": {
        "id": "5q7biXgGe6Yo"
      },
      "source": [
        "#Step 10: Testing Model Accuracy Using the Test Data\n",
        "\n",
        "Finally, we check the model accuracy by sending the test data set into our model and compute the accuracy using the accuracy function that we defined earlier."
      ]
    },
    {
      "cell_type": "code",
      "metadata": {
        "colab": {
          "base_uri": "https://localhost:8080/"
        },
        "id": "8MKY3zYse6wX",
        "outputId": "de072c55-a4b7-4fb7-f749-70fb5e655c88"
      },
      "source": [
        "# Test model on validation set.\n",
        "pred = logistic_regression(x_test)\n",
        "a = accuracy(pred, y_test)\n",
        "print(f\"Test Accuracy: {a}\")"
      ],
      "execution_count": 112,
      "outputs": [
        {
          "output_type": "stream",
          "name": "stdout",
          "text": [
            "Test Accuracy: 0.8959000110626221\n"
          ]
        }
      ]
    }
  ]
}