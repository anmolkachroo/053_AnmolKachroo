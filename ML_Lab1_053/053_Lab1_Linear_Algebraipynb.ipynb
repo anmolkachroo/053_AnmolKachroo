{
  "nbformat": 4,
  "nbformat_minor": 0,
  "metadata": {
    "colab": {
      "name": "053_Lab1_Linear_Algebraipynb",
      "provenance": []
    },
    "kernelspec": {
      "name": "python3",
      "display_name": "Python 3"
    },
    "language_info": {
      "name": "python"
    }
  },
  "cells": [
    {
      "cell_type": "code",
      "metadata": {
        "colab": {
          "base_uri": "https://localhost:8080/"
        },
        "id": "adCx-JB833Oy",
        "outputId": "9074b651-c52b-4c82-f5b2-5c9c47cdbf82"
      },
      "source": [
        "from google.colab import drive\n",
        "drive.mount(\"/content/drive\")"
      ],
      "execution_count": 1,
      "outputs": [
        {
          "output_type": "stream",
          "name": "stdout",
          "text": [
            "Mounted at /content/drive\n"
          ]
        }
      ]
    },
    {
      "cell_type": "code",
      "metadata": {
        "id": "_OYfIYdvAXdV"
      },
      "source": [
        "import numpy as np\n",
        "import pandas as pd"
      ],
      "execution_count": 19,
      "outputs": []
    },
    {
      "cell_type": "code",
      "metadata": {
        "colab": {
          "base_uri": "https://localhost:8080/"
        },
        "id": "2gpsLPGFAcAS",
        "outputId": "c0bb98fd-86cd-479a-ed8c-7b0ff4fc5674"
      },
      "source": [
        "# two matrics\n",
        "array1 = np.array([[1, 8, 3],[3, 1, 5]])\n",
        "array2 = np.array([[3,-2],[8, 4],[8, -8]])\n",
        "print(array1)\n",
        "print(array2)"
      ],
      "execution_count": 25,
      "outputs": [
        {
          "output_type": "stream",
          "name": "stdout",
          "text": [
            "[[1 8 3]\n",
            " [3 1 5]]\n",
            "[[ 3 -2]\n",
            " [ 8  4]\n",
            " [ 8 -8]]\n"
          ]
        }
      ]
    },
    {
      "cell_type": "code",
      "metadata": {
        "colab": {
          "base_uri": "https://localhost:8080/"
        },
        "id": "u9AfQ8gNAu0E",
        "outputId": "6bbf8478-dfcf-40f9-c1ab-ba68c500583e"
      },
      "source": [
        "#randomly initialize array\n",
        "array = np.random.rand(3, 4)\n",
        "print(array)"
      ],
      "execution_count": 26,
      "outputs": [
        {
          "output_type": "stream",
          "name": "stdout",
          "text": [
            "[[0.61449553 0.88925024 0.58531225 0.47750882]\n",
            " [0.10612463 0.25266836 0.45798266 0.57877131]\n",
            " [0.89486094 0.13343396 0.55084127 0.0760385 ]]\n"
          ]
        }
      ]
    },
    {
      "cell_type": "code",
      "metadata": {
        "colab": {
          "base_uri": "https://localhost:8080/"
        },
        "id": "qN48RXnxA1HA",
        "outputId": "c7fd60e6-65ae-423c-cf21-6d2f421a6400"
      },
      "source": [
        "# perform matrix multiplication\n",
        "mul = np.dot(array1, array2)\n",
        "print(mul)"
      ],
      "execution_count": 27,
      "outputs": [
        {
          "output_type": "stream",
          "name": "stdout",
          "text": [
            "[[ 91   6]\n",
            " [ 57 -42]]\n"
          ]
        }
      ]
    },
    {
      "cell_type": "code",
      "metadata": {
        "colab": {
          "base_uri": "https://localhost:8080/"
        },
        "id": "VeMX4cL3BGOu",
        "outputId": "17ff7333-e48e-4569-d92b-1fba812d403e"
      },
      "source": [
        "# perform element wise matrix multiplication\n",
        "res = [[0 for x in range(len(array1))] for y in range(len(array2[0]))]\n",
        "\n",
        "for i in range(len(array1)): \n",
        "  for j in range(len(array2[0])): \n",
        "    for k in range(len(array2)): \n",
        "      res[i][j] += array1[i][k] * array2[k][j]\n",
        " \n",
        "print (res) "
      ],
      "execution_count": 29,
      "outputs": [
        {
          "output_type": "stream",
          "name": "stdout",
          "text": [
            "[[91, 6], [57, -42]]\n"
          ]
        }
      ]
    },
    {
      "cell_type": "code",
      "metadata": {
        "colab": {
          "base_uri": "https://localhost:8080/"
        },
        "id": "xOwSZm-tBOhT",
        "outputId": "c02f4da7-23a4-471d-a2fd-4b38c6df069a"
      },
      "source": [
        "# mean of first matrix\n",
        "mean = np.mean(array1)\n",
        "print(mean)"
      ],
      "execution_count": 30,
      "outputs": [
        {
          "output_type": "stream",
          "name": "stdout",
          "text": [
            "3.5\n"
          ]
        }
      ]
    },
    {
      "cell_type": "code",
      "metadata": {
        "id": "xCr2cAWABTtI"
      },
      "source": [
        "main_data = pd.read_csv(\"/content/drive/MyDrive/SEM_7_ML/L1/mtcars.csv\")"
      ],
      "execution_count": 31,
      "outputs": []
    },
    {
      "cell_type": "code",
      "metadata": {
        "colab": {
          "base_uri": "https://localhost:8080/"
        },
        "id": "69XScgXDBY0P",
        "outputId": "c0930209-998c-48f2-b3c6-ef46d7d9de92"
      },
      "source": [
        "del main_data['model']\n",
        "# meancenter\n",
        "meancenter = main_data.apply(lambda e: e - e.mean())\n",
        "print(meancenter.head())\n"
      ],
      "execution_count": 32,
      "outputs": [
        {
          "output_type": "stream",
          "name": "stdout",
          "text": [
            "        mpg     cyl        disp       hp  ...      vs       am    gear    carb\n",
            "0  0.909375 -0.1875  -70.721875 -36.6875  ... -0.4375  0.59375  0.3125  1.1875\n",
            "1  0.909375 -0.1875  -70.721875 -36.6875  ... -0.4375  0.59375  0.3125  1.1875\n",
            "2  2.709375 -2.1875 -122.721875 -53.6875  ...  0.5625  0.59375  0.3125 -1.8125\n",
            "3  1.309375 -0.1875   27.278125 -36.6875  ...  0.5625 -0.40625 -0.6875 -1.8125\n",
            "4 -1.390625  1.8125  129.278125  28.3125  ... -0.4375 -0.40625 -0.6875 -0.8125\n",
            "\n",
            "[5 rows x 11 columns]\n"
          ]
        }
      ]
    }
  ]
}