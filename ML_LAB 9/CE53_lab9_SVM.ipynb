{
  "nbformat": 4,
  "nbformat_minor": 0,
  "metadata": {
    "colab": {
      "name": "Untitled2.ipynb",
      "provenance": []
    },
    "kernelspec": {
      "name": "python3",
      "display_name": "Python 3"
    },
    "language_info": {
      "name": "python"
    }
  },
  "cells": [
    {
      "cell_type": "markdown",
      "metadata": {
        "id": "om_gRrgfgKDM"
      },
      "source": [
        "#Aim: To implement SVM using scikit-learn library and train it to classify Breast Cancer Data.\n",
        "\n",
        "##Key Terms: \n",
        "\n",
        "**Hyperplane:** A hyperplane is a decision plane which separates between a set of objects having different class memberships.\n",
        "\n",
        "**Support Vectors :** Support vectors are the data points, which are closest to the hyperplane. These points will define the separating line better by calculating margins.\n",
        "\n",
        "**Margin :** A margin is a gap between the two lines on the closest class points. This is calculated as the perpendicular distance from the line to support vectors or closest points. If the margin is larger in between the classes, then it is considered a good margin, a smaller margin is a bad margin.\n",
        "\n",
        "**SVM Kernel :** The SVM algorithm is implemented in practice using a kernel. A kernel transforms an input data space into the required form.\n",
        "\n",
        "**Linear Kernel :** A linear kernel can be used as normal dot product any two given observations. The product between two vectors is the sum of the multiplication of each pair of input values.\n",
        "\n",
        "$ K(x, xi) = sum(x * xi) $\n",
        "\n",
        "**Polynomial Kernel :** A polynomial kernel is a more generalized form of the linear kernel. The polynomial kernel can distinguish curved or nonlinear input space.\n",
        "$ K(x,xi) = 1 + sum(x * xi)^d$\n",
        "\n",
        "**RBF (Radial Basis Function) Kernel :** The Radial basis function kernel is a popular kernel function commonly used in support vector machine classification.RBF can map an input space in infinite dimensional space.\n",
        "$ K(x,xi) = exp(-gamma * sum((x xi^2)) $\n",
        "\n",
        "Here gamma is a parameter, which ranges from 0 to 1. A higher value of gamma will perfectly fit the training dataset, which causes over-fitting. Gamma=0.1 is considered to be a good default value. The value of gamma needs to be manually specified in the learning algorithm."
      ]
    },
    {
      "cell_type": "markdown",
      "metadata": {
        "id": "NzEfcv3PgK4R"
      },
      "source": [
        "***Excercise***"
      ]
    },
    {
      "cell_type": "code",
      "metadata": {
        "id": "PcgW910MgNdL"
      },
      "source": [
        "import matplotlib.pyplot as plt\n",
        "from sklearn import svm\n",
        "from sklearn.model_selection import train_test_split\n",
        "import numpy as np\n",
        "import seaborn as sb\n",
        "import matplotlib.pyplot as plt"
      ],
      "execution_count": 1,
      "outputs": []
    },
    {
      "cell_type": "code",
      "metadata": {
        "colab": {
          "base_uri": "https://localhost:8080/"
        },
        "id": "MqPjlmiYglb3",
        "outputId": "afa04685-920a-4060-e6fd-e49ef68c8914"
      },
      "source": [
        "from sklearn import datasets\n",
        "digits=datasets.load_digits()\n",
        "#print the targets\n",
        "print(\"Targets: \",digits.target_names)"
      ],
      "execution_count": 2,
      "outputs": [
        {
          "output_type": "stream",
          "name": "stdout",
          "text": [
            "Targets:  [0 1 2 3 4 5 6 7 8 9]\n"
          ]
        }
      ]
    },
    {
      "cell_type": "code",
      "metadata": {
        "colab": {
          "base_uri": "https://localhost:8080/"
        },
        "id": "TO-tQkxagoZx",
        "outputId": "de6040fc-c6f9-4020-8628-add0cb68e4aa"
      },
      "source": [
        "# print data(feature)shape\n",
        "digits.data.shape"
      ],
      "execution_count": 3,
      "outputs": [
        {
          "output_type": "execute_result",
          "data": {
            "text/plain": [
              "(1797, 64)"
            ]
          },
          "metadata": {},
          "execution_count": 3
        }
      ]
    },
    {
      "cell_type": "code",
      "metadata": {
        "colab": {
          "base_uri": "https://localhost:8080/"
        },
        "id": "YHbJAQFKgyrT",
        "outputId": "ac601b91-f43e-4297-d303-3eef69b11478"
      },
      "source": [
        "#print targets\n",
        "print(digits.target)"
      ],
      "execution_count": 4,
      "outputs": [
        {
          "output_type": "stream",
          "name": "stdout",
          "text": [
            "[0 1 2 ... 8 9 8]\n"
          ]
        }
      ]
    },
    {
      "cell_type": "code",
      "metadata": {
        "id": "agi8amFEg3yE"
      },
      "source": [
        "# Split dataset into training set and test set\n",
        "X_train,X_test,Y_train,Y_test=train_test_split(digits.data,digits.target,test_size=0.2,random_state=53)"
      ],
      "execution_count": 6,
      "outputs": []
    },
    {
      "cell_type": "code",
      "metadata": {
        "id": "PObuuZk_hIiO"
      },
      "source": [
        "#Create a svm Classifier\n",
        "clf_linear = svm.SVC(kernel='linear',random_state=53) # Linear Kernel\n",
        "#Train the model using the training sets\n",
        "clf_linear.fit(X_train,Y_train)\n",
        "#Predict the response for test dataset\n",
        "y_pred_linear = clf_linear.predict(X_test)"
      ],
      "execution_count": 7,
      "outputs": []
    },
    {
      "cell_type": "code",
      "metadata": {
        "colab": {
          "base_uri": "https://localhost:8080/"
        },
        "id": "pTvnsnE8hOv-",
        "outputId": "5ac65098-a49f-407f-cb09-25f577e430a3"
      },
      "source": [
        "from sklearn import metrics\n",
        "# Model Accuracy: how often is the classifier correct?\n",
        "print(\"Accuracy:\",metrics.accuracy_score(Y_test, y_pred_linear))\n",
        "# Model Precision: what percentage of positive tuples are labeled as such?\n",
        "print(\"Precision:\",metrics.precision_score(Y_test, y_pred_linear,average='weighted'))\n",
        "# Model Recall: what percentage of positive tuples are labelled as such?\n",
        "print(\"Recall:\",metrics.recall_score(Y_test, y_pred_linear,average='weighted'))"
      ],
      "execution_count": 8,
      "outputs": [
        {
          "output_type": "stream",
          "name": "stdout",
          "text": [
            "Accuracy: 0.975\n",
            "Precision: 0.9754397281586407\n",
            "Recall: 0.975\n"
          ]
        }
      ]
    },
    {
      "cell_type": "code",
      "metadata": {
        "id": "BcV2ZJaXhTrX"
      },
      "source": [
        "#using rbf kernel\n",
        "clf_rbf = svm.SVC(kernel='rbf',gamma=0.005,random_state=53) # rbf Kernel\n",
        "clf_rbf.fit(X_train,Y_train)\n",
        "#Predict the response for test dataset\n",
        "y_pred_rbf = clf_rbf.predict(X_test)"
      ],
      "execution_count": 9,
      "outputs": []
    },
    {
      "cell_type": "code",
      "metadata": {
        "colab": {
          "base_uri": "https://localhost:8080/"
        },
        "id": "wX57lFgihZjS",
        "outputId": "4cdd5ad4-94c6-4f70-fb1b-cdf0e7f08e20"
      },
      "source": [
        "# Model Accuracy: how often is the classifier correct?\n",
        "print(\"Accuracy:\",metrics.accuracy_score(Y_test, y_pred_rbf))\n",
        "# Model Precision: what percentage of positive tuples are labeled as such?\n",
        "print(\"Precision:\",metrics.precision_score(Y_test, y_pred_rbf,average='weighted'))\n",
        "# Model Recall: what percentage of positive tuples are labelled as such?\n",
        "print(\"Recall:\",metrics.recall_score(Y_test, y_pred_rbf,average='weighted'))"
      ],
      "execution_count": 10,
      "outputs": [
        {
          "output_type": "stream",
          "name": "stdout",
          "text": [
            "Accuracy: 0.9638888888888889\n",
            "Precision: 0.9685542032905117\n",
            "Recall: 0.9638888888888889\n"
          ]
        }
      ]
    },
    {
      "cell_type": "code",
      "metadata": {
        "id": "z3GUAlFXhdxa"
      },
      "source": [
        "#using poly kernel\n",
        "clf_poly = svm.SVC(kernel='poly',degree=3,random_state=53) # poly Kernel\n",
        "clf_poly.fit(X_train,Y_train)\n",
        "#Predict the response for test dataset\n",
        "y_pred_poly = clf_poly.predict(X_test)"
      ],
      "execution_count": 11,
      "outputs": []
    },
    {
      "cell_type": "code",
      "metadata": {
        "colab": {
          "base_uri": "https://localhost:8080/"
        },
        "id": "mu83xxkBhjX4",
        "outputId": "b918b1c4-df6f-45e4-ecce-32d7c7ad681e"
      },
      "source": [
        "# Model Accuracy: how often is the classifier correct?\n",
        "print(\"Accuracy:\",metrics.accuracy_score(Y_test, y_pred_poly))\n",
        "# Model Precision: what percentage of positive tuples are labeled as such?\n",
        "print(\"Precision:\",metrics.precision_score(Y_test, y_pred_poly,average='weighted'))\n",
        "# Model Recall: what percentage of positive tuples are labelled as such?\n",
        "print(\"Recall:\",metrics.recall_score(Y_test, y_pred_poly,average='weighted'))"
      ],
      "execution_count": 12,
      "outputs": [
        {
          "output_type": "stream",
          "name": "stdout",
          "text": [
            "Accuracy: 0.9805555555555555\n",
            "Precision: 0.9810824514991181\n",
            "Recall: 0.9805555555555555\n"
          ]
        }
      ]
    }
  ]
}